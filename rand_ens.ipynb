{
 "cells": [
  {
   "cell_type": "markdown",
   "metadata": {},
   "source": [
    "## Parameters"
   ]
  },
  {
   "cell_type": "code",
   "execution_count": null,
   "metadata": {},
   "outputs": [],
   "source": [
    "prefix='./results/'\n",
    "n_jobs = 10\n",
    "n_trees = 10"
   ]
  },
  {
   "cell_type": "markdown",
   "metadata": {},
   "source": [
    "## Imports"
   ]
  },
  {
   "cell_type": "code",
   "execution_count": null,
   "metadata": {},
   "outputs": [],
   "source": [
    "from metrics import *\n",
    "%run ___imports.ipynb "
   ]
  },
  {
   "cell_type": "markdown",
   "metadata": {},
   "source": [
    "## Loading"
   ]
  },
  {
   "cell_type": "code",
   "execution_count": null,
   "metadata": {},
   "outputs": [],
   "source": [
    "with open('simplified_reccurent_CD_pt1.pkl', \"rb\") as fh:\n",
    "            df1 = pickle.load(fh)\n",
    "with open('simplified_reccurent_CD_pt2.pkl', \"rb\") as fh:\n",
    "            df2 = pickle.load(fh)        \n",
    "with open('simplified_reccurent_CD_pt3.pkl', \"rb\") as fh:\n",
    "            df3 = pickle.load(fh)       \n",
    "with open('simplified_reccurent_CD_pt4.pkl', \"rb\") as fh:\n",
    "            df4 = pickle.load(fh)\n",
    "\n",
    "df = pd.concat([df1,df2,df3,df4])\n",
    "\n",
    "df.TX_DATETIME = (df.TX_DATETIME - datetime.strptime('2018-04-01', '%Y-%m-%d')).dt.days\n",
    "\n",
    "train = df[df['TX_DATETIME']>=0]\n",
    "train = train[train['TX_DATETIME']<7]\n",
    "test = df[df['TX_DATETIME']>=7]"
   ]
  },
  {
   "cell_type": "markdown",
   "metadata": {},
   "source": [
    "## Preparation"
   ]
  },
  {
   "cell_type": "code",
   "execution_count": null,
   "metadata": {},
   "outputs": [],
   "source": [
    "fraudulent_card_train = np.unique(train.loc[train.TX_FRAUD == 1]['CUSTOMER_ID'].values)"
   ]
  },
  {
   "cell_type": "code",
   "execution_count": null,
   "metadata": {},
   "outputs": [],
   "source": [
    "performancesMeasures = pd.DataFrame(columns=['model','day_test','pk100','pk300','pk1000'])"
   ]
  },
  {
   "cell_type": "markdown",
   "metadata": {},
   "source": [
    "## Execution"
   ]
  },
  {
   "cell_type": "code",
   "execution_count": null,
   "metadata": {},
   "outputs": [],
   "source": [
    "ensemble = []"
   ]
  },
  {
   "cell_type": "code",
   "execution_count": null,
   "metadata": {},
   "outputs": [],
   "source": [
    "important_features = train.columns.values.tolist()\n",
    "to_remove = ['TX_DATETIME','TX_TIME_SECONDS','CUSTOMER_ID', 'TX_FRAUD']\n",
    "for i in to_remove: important_features.remove(i)"
   ]
  },
  {
   "cell_type": "code",
   "execution_count": null,
   "metadata": {},
   "outputs": [],
   "source": [
    "dataset = train.append(test)\n",
    "first_day_test = 7\n",
    "last_day_test = 182"
   ]
  },
  {
   "cell_type": "code",
   "execution_count": null,
   "metadata": {},
   "outputs": [],
   "source": [
    "#Initialization\n",
    "#We need to fill the buffer with the last 7 windows \n",
    "\n",
    "for i in range(first_day_test -4 ,first_day_test):\n",
    "    training_day_from = i -7\n",
    "    training_day_to = i\n",
    "    print(\"Training day: from \"+str(training_day_from)+ \" to \"+str(training_day_to))\n",
    "    \n",
    "    #df because outside of train/test(hence outside of dataset)\n",
    "    train_set = df[df['TX_DATETIME'] >= training_day_from]\n",
    "    train_set = train_set[train_set['TX_DATETIME'] < training_day_to]\n",
    "    \n",
    "    if i == first_day_test - 4 :\n",
    "        fraudulent_card_train = np.unique(train_set.loc[train_set['TX_FRAUD'] == 1]['CUSTOMER_ID'].values)\n",
    "    else:\n",
    "        fraudulent_card_train = np.unique(np.concatenate([fraudulent_card_train,np.unique(train_set.loc[train_set['TX_FRAUD'] == 1]['CUSTOMER_ID'].values)]))\n",
    "\n",
    "    Xtrain = train_set[important_features]\n",
    "    ytrain = train_set['TX_FRAUD']\n",
    "    \n",
    "    clf = BalancedRandomForestClassifier(n_jobs=n_jobs,n_estimators=n_trees,random_state=42, verbose=5)\n",
    "    clf.fit(Xtrain,ytrain)\n",
    "    \n",
    "    ensemble.append(clf) #ensemble initialization"
   ]
  },
  {
   "cell_type": "code",
   "execution_count": null,
   "metadata": {},
   "outputs": [],
   "source": [
    "for i in range(first_day_test,last_day_test+1):\n",
    "    print(\"TEST DAY \"+str(i)+\" of \"+str(last_day_test))\n",
    "\n",
    "    training_day_from = i -7\n",
    "    training_day_to = i\n",
    "    testing_day = i\n",
    "    \n",
    "    print(\"Training day: from \"+str(training_day_from)+ \" to \"+str(training_day_to))\n",
    "    print(\"Testing day: \"+str(testing_day))\n",
    "\n",
    "    train_set = dataset[dataset['TX_DATETIME'] >= training_day_from]\n",
    "    train_set = train_set[train_set['TX_DATETIME'] < training_day_to]\n",
    "    \n",
    "    test_set = dataset[dataset['TX_DATETIME'] == testing_day]\n",
    "    \n",
    "    \n",
    "    #fraudulent_card_train has been initialized during previous phase\n",
    "    fraudulent_card_train = np.unique(np.concatenate([fraudulent_card_train,np.unique(train_set.loc[train_set['TX_FRAUD'] == 1]['CUSTOMER_ID'].values)]))\n",
    "    \n",
    "\n",
    "    Xtrain = train_set[important_features]\n",
    "    Xtest = test_set[important_features]\n",
    "    ytrain = train_set['TX_FRAUD']\n",
    "    ytest = test_set['TX_FRAUD']\n",
    " \n",
    "    \n",
    "    clf = BalancedRandomForestClassifier(n_jobs=n_jobs,n_estimators=n_trees,random_state=42, verbose=5)\n",
    "    clf.fit(Xtrain,ytrain)\n",
    "\n",
    "    ensemble.append(clf)\n",
    "    #pop a random element\n",
    "    _ = ensemble.pop(random.randint(0,len(ensemble)-1))\n",
    "    \n",
    "    \n",
    "    all_preds = np.zeros(shape=(Xtest.shape[0],len(ensemble)))\n",
    "    for j in range(len(ensemble)):\n",
    "        print (\"Predicting for model \"+str(j+1)+\" of \"+str(len(ensemble)))\n",
    "        all_preds[:,j]=ensemble[j].predict_proba(Xtest)[:,1]\n",
    "\n",
    "       \n",
    "    pred_online = np.average(a=all_preds,axis=1)\n",
    "\n",
    "    \n",
    "    model_name = prefix+'random_ensemble'\n",
    "  \n",
    "    print(\"Measuring performances for slot: \"+str(i))\n",
    "    \n",
    "    pk100,pk300,pk1000,cpk100,cpk300,cpk1000,prauc,prauc_card,cprauc,cprauc_card = compute_metrics_remove_cards(ytest,pred_online,test_set['CUSTOMER_ID'],fraudulent_card_train) \n",
    "    performancesMeasures.loc[len(performancesMeasures)] = [model_name,\n",
    "                                                           testing_day,\n",
    "                                                           pk100,\n",
    "                                                           pk300,\n",
    "                                                           pk1000]\n",
    "      "
   ]
  },
  {
   "cell_type": "code",
   "execution_count": null,
   "metadata": {},
   "outputs": [],
   "source": [
    "perf_name = prefix+'metrics_BRF_random_ensemble.csv'\n",
    "performancesMeasures.to_csv(perf_name,index=False)\n",
    "performancesMeasures"
   ]
  },
  {
   "cell_type": "code",
   "execution_count": null,
   "metadata": {},
   "outputs": [],
   "source": [
    "performancesMeasures.pk100.plot()"
   ]
  }
 ],
 "metadata": {
  "kernelspec": {
   "display_name": "Python 3 (ipykernel)",
   "language": "python",
   "name": "python3"
  },
  "language_info": {
   "codemirror_mode": {
    "name": "ipython",
    "version": 3
   },
   "file_extension": ".py",
   "mimetype": "text/x-python",
   "name": "python",
   "nbconvert_exporter": "python",
   "pygments_lexer": "ipython3",
   "version": "3.10.2"
  }
 },
 "nbformat": 4,
 "nbformat_minor": 2
}
