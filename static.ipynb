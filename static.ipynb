{
 "cells": [
  {
   "cell_type": "markdown",
   "metadata": {},
   "source": [
    "## Parameters"
   ]
  },
  {
   "cell_type": "code",
   "execution_count": null,
   "metadata": {},
   "outputs": [],
   "source": [
    "prefix='./results/'\n",
    "n_jobs = 10\n",
    "n_trees = 10"
   ]
  },
  {
   "cell_type": "markdown",
   "metadata": {},
   "source": [
    "## Imports"
   ]
  },
  {
   "cell_type": "code",
   "execution_count": null,
   "metadata": {},
   "outputs": [],
   "source": [
    "from metrics import *\n",
    "%run ___imports.ipynb "
   ]
  },
  {
   "cell_type": "markdown",
   "metadata": {},
   "source": [
    "## Loading"
   ]
  },
  {
   "cell_type": "code",
   "execution_count": null,
   "metadata": {},
   "outputs": [],
   "source": [
    "with open('simplified_reccurent_CD_pt1.pkl', \"rb\") as fh:\n",
    "            df1 = pickle.load(fh)\n",
    "with open('simplified_reccurent_CD_pt2.pkl', \"rb\") as fh:\n",
    "            df2 = pickle.load(fh)        \n",
    "with open('simplified_reccurent_CD_pt3.pkl', \"rb\") as fh:\n",
    "            df3 = pickle.load(fh)       \n",
    "with open('simplified_reccurent_CD_pt4.pkl', \"rb\") as fh:\n",
    "            df4 = pickle.load(fh)\n",
    "\n",
    "df = pd.concat([df1,df2,df3,df4])\n",
    "\n",
    "df.TX_DATETIME = (df.TX_DATETIME - datetime.strptime('2018-04-01', '%Y-%m-%d')).dt.days\n",
    "\n",
    "train = df[df['TX_DATETIME']>=0]\n",
    "train = train[train['TX_DATETIME']<7]\n",
    "test = df[df['TX_DATETIME']>=7]"
   ]
  },
  {
   "cell_type": "markdown",
   "metadata": {},
   "source": [
    "## Preparation"
   ]
  },
  {
   "cell_type": "code",
   "execution_count": null,
   "metadata": {},
   "outputs": [],
   "source": [
    "performancesMeasures = pd.DataFrame(columns=['model','day_test','pk100','pk300','pk1000'])"
   ]
  },
  {
   "cell_type": "markdown",
   "metadata": {},
   "source": [
    "## Execution"
   ]
  },
  {
   "cell_type": "code",
   "execution_count": null,
   "metadata": {},
   "outputs": [],
   "source": [
    "first_test_day = test['TX_DATETIME'].min()\n",
    "last_test_day = test['TX_DATETIME'].max()\n",
    "num_test_days = (last_test_day - first_test_day)\n",
    "range_test_days = range(first_test_day, last_test_day + 1)"
   ]
  },
  {
   "cell_type": "code",
   "execution_count": null,
   "metadata": {},
   "outputs": [],
   "source": [
    "important_features = train.columns.values.tolist()\n",
    "to_remove = ['TX_DATETIME','TX_TIME_SECONDS','CUSTOMER_ID', 'TX_FRAUD']\n",
    "for i in to_remove: important_features.remove(i)"
   ]
  },
  {
   "cell_type": "code",
   "execution_count": null,
   "metadata": {},
   "outputs": [],
   "source": [
    "clf = BalancedRandomForestClassifier(n_jobs=n_jobs,n_estimators=n_trees,random_state=42, verbose=5)\n",
    "clf.fit(train[important_features], train.TX_FRAUD)"
   ]
  },
  {
   "cell_type": "code",
   "execution_count": null,
   "metadata": {
    "scrolled": true
   },
   "outputs": [],
   "source": [
    "#measuring performances\n",
    "for test_day in range_test_days:\n",
    "    \n",
    "    print(\"Iteration\",test_day,\"of\",last_test_day)\n",
    "    \n",
    "    test_set = test[test['TX_DATETIME'] == test_day]\n",
    "    last_test_set = test[test['TX_DATETIME'] == test_day - 1] #for adding fraudulent cards\n",
    "    \n",
    "    if test_day == first_test_day:\n",
    "        fraudulent_card_train = np.unique(train.loc[train.TX_FRAUD == 1]['CUSTOMER_ID'].values)\n",
    "    else:\n",
    "        fraudulent_card_train = np.unique(np.concatenate([fraudulent_card_train,np.unique(last_test_set.loc[last_test_set['TX_FRAUD'] == 1]['CUSTOMER_ID'].values)]))\n",
    "    \n",
    "    \n",
    "    daily_predi=clf.predict_proba(test_set[important_features])[:,1]\n",
    "\n",
    "    daily_truth = test_set['TX_FRAUD']\n",
    "    test_cards_ids = test_set['CUSTOMER_ID']\n",
    "    \n",
    "    pk100,pk300,pk1000 = compute_metrics_remove_cards(daily_truth,\n",
    "                                                        daily_predi,\n",
    "                                                        test_cards_ids,\n",
    "                                                        fraudulent_card_train)\n",
    "    model_name = prefix+'baseline_BRF'\n",
    "    \n",
    "    performancesMeasures.loc[len(performancesMeasures)] = [model_name,\n",
    "                                                           test_day,\n",
    "                                                           pk100,\n",
    "                                                           pk300,\n",
    "                                                           pk1000]\n",
    "                                                           "
   ]
  },
  {
   "cell_type": "code",
   "execution_count": null,
   "metadata": {},
   "outputs": [],
   "source": [
    "perf_name = prefix+'metrics_BRF_baseline.csv'\n",
    "performancesMeasures.to_csv(perf_name,index=False)\n",
    "performancesMeasures"
   ]
  },
  {
   "cell_type": "code",
   "execution_count": null,
   "metadata": {},
   "outputs": [],
   "source": [
    "performancesMeasures.pk100.plot()"
   ]
  },
  {
   "cell_type": "code",
   "execution_count": null,
   "metadata": {},
   "outputs": [],
   "source": []
  }
 ],
 "metadata": {
  "kernelspec": {
   "display_name": "Python 3 (ipykernel)",
   "language": "python",
   "name": "python3"
  },
  "language_info": {
   "codemirror_mode": {
    "name": "ipython",
    "version": 3
   },
   "file_extension": ".py",
   "mimetype": "text/x-python",
   "name": "python",
   "nbconvert_exporter": "python",
   "pygments_lexer": "ipython3",
   "version": "3.10.2"
  }
 },
 "nbformat": 4,
 "nbformat_minor": 2
}
